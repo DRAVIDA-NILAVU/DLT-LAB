{
  "nbformat": 4,
  "nbformat_minor": 0,
  "metadata": {
    "colab": {
      "provenance": []
    },
    "kernelspec": {
      "name": "python3",
      "display_name": "Python 3"
    },
    "language_info": {
      "name": "python"
    }
  },
  "cells": [
    {
      "cell_type": "code",
      "execution_count": 1,
      "metadata": {
        "colab": {
          "base_uri": "https://localhost:8080/"
        },
        "id": "YAbdGjchgzwq",
        "outputId": "556752cd-9585-4530-b6aa-50235a7de1f3"
      },
      "outputs": [
        {
          "output_type": "stream",
          "name": "stdout",
          "text": [
            "AND\n",
            "(0, 0) -> 0\n",
            "(0, 1) -> 0\n",
            "(1, 0) -> 0\n",
            "(1, 1) -> 1\n",
            "\n",
            "OR\n",
            "(0, 0) -> 0\n",
            "(0, 1) -> 1\n",
            "(1, 0) -> 1\n",
            "(1, 1) -> 1\n",
            "\n",
            "NOT\n",
            "0 -> 1\n",
            "1 -> 0\n",
            "\n",
            "NOR\n",
            "(0, 0) -> 1\n",
            "(0, 1) -> 0\n",
            "(1, 0) -> 0\n",
            "(1, 1) -> 0\n",
            "\n",
            "XOR\n",
            "(0, 0) -> 0\n",
            "(0, 1) -> 1\n",
            "(1, 0) -> 1\n",
            "(1, 1) -> 0\n"
          ]
        }
      ],
      "source": [
        "def mcp_neuron(inputs, weights, threshold):\n",
        "    summation = sum(i * w for i, w in zip(inputs, weights))\n",
        "    return 1 if summation >= threshold else 0\n",
        "# AND Gate\n",
        "def AND(x1, x2):\n",
        "    return mcp_neuron([x1, x2], [1, 1], 2)\n",
        "# OR Gate\n",
        "def OR(x1, x2):\n",
        "    return mcp_neuron([x1, x2], [1, 1], 1)\n",
        "# NOT Gate\n",
        "def NOT(x1):\n",
        "    return mcp_neuron([x1], [-1], 0)\n",
        "# NOR Gate\n",
        "def NOR(x1, x2):\n",
        "    return mcp_neuron([x1, x2], [-1, -1], 0)\n",
        "# XOR Gate (using hard-coded logic)\n",
        "def XOR(x1, x2):\n",
        "    return (x1 ^ x2)  # XOR can't be represented by single-layer MCP\n",
        "# Testing\n",
        "print(\"AND\")\n",
        "for x in [(0,0), (0,1), (1,0), (1,1)]:\n",
        "    print(f\"{x} -> {AND(*x)}\")\n",
        "print(\"\\nOR\")\n",
        "for x in [(0,0), (0,1), (1,0), (1,1)]:\n",
        "    print(f\"{x} -> {OR(*x)}\")\n",
        "print(\"\\nNOT\")\n",
        "for x in [0, 1]:\n",
        "    print(f\"{x} -> {NOT(x)}\")\n",
        "print(\"\\nNOR\")\n",
        "for x in [(0,0), (0,1), (1,0), (1,1)]:\n",
        "    print(f\"{x} -> {NOR(*x)}\")\n",
        "print(\"\\nXOR\")\n",
        "for x in [(0,0), (0,1), (1,0), (1,1)]:\n",
        "    print(f\"{x} -> {XOR(*x)}\")"
      ]
    }
  ]
}